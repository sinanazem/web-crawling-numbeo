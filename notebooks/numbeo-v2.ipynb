{
 "cells": [
  {
   "cell_type": "code",
   "execution_count": 23,
   "metadata": {},
   "outputs": [],
   "source": [
    "import re\n",
    "import requests\n",
    "from bs4 import BeautifulSoup\n"
   ]
  },
  {
   "cell_type": "code",
   "execution_count": 24,
   "metadata": {},
   "outputs": [],
   "source": [
    "URL = \"https://www.numbeo.com/cost-of-living/\""
   ]
  },
  {
   "cell_type": "code",
   "execution_count": 21,
   "metadata": {},
   "outputs": [],
   "source": [
    "class ExtractTable:\n",
    "    \"\"\" Extracts the table from the beautiful soup html page\"\"\"\n",
    "    def __init__(self, page):\n",
    "        self.Data = {}\n",
    "        self.Table = page.find(\"table\", {'class':'data_wide_table'})  # Finding table with class name\n",
    "\n",
    "    def clean_string(self, s):\n",
    "        \"\"\"Cleans unwanted characters from a string\"\"\"\n",
    "        s = re.sub(r\"\\u00a0\", \" \", s)  # Replace non-breaking space with a regular space\n",
    "        s = re.sub(r\"\\n+\", \"\", s)      # Remove newline characters\n",
    "        return s.strip()               # Remove any leading or trailing whitespace\n",
    "\n",
    "    def extract(self):\n",
    "        \"\"\"A method to extract the table contents and store them to a dict\"\"\"\n",
    "        if not self.Table:\n",
    "            return None  # Return None if the table is not found\n",
    "\n",
    "        key = None\n",
    "        for row in self.Table(\"tr\"):\n",
    "            if row(\"th\"):\n",
    "                key = self.clean_string(row(\"th\")[0].text)\n",
    "                self.Data[key] = []\n",
    "            elif key:\n",
    "                cleaned_row = [self.clean_string(cell.text) for cell in row(\"td\")]\n",
    "                self.Data[key].append(cleaned_row)\n",
    "                \n",
    "        return self.Data\n",
    "    \n",
    "\n",
    "\n",
    "class API(object):\n",
    "    \"\"\"API to get a country\"\"\"\n",
    "    def __init__(self, BASE_URL, Country, city=0):\n",
    "        self.base = BASE_URL\n",
    "        self.url = BASE_URL+\"country_result.jsp?country=\"+Country+\"&displayCurrency=USD\"\n",
    "        self.country = Country\n",
    "        self.result = {}\n",
    "        response = self.get_page(self.url)\n",
    "        if response:\n",
    "            self.page = BeautifulSoup(response.text, \"html\")\n",
    "            self.get_city()\n",
    "            EX = ExtractTable(self.page)\n",
    "            self.result[Country] = EX.extract()\n",
    "            if city:\n",
    "                self.get_all_city()\n",
    "        else:\n",
    "            self.page = None\n",
    "            self.city = None\n",
    "    def get_result(self):\n",
    "        \"\"\"returns the result for the country\"\"\"\n",
    "        return self.result[self.country]\n",
    "\n",
    "    def get_page(self, url):\n",
    "        \"\"\" get the page from the url\"\"\"\n",
    "        request = requests.get(url)\n",
    "        if request.status_code != 200:\n",
    "            return None\n",
    "        return request\n",
    "\n",
    "    def get_city(self):\n",
    "        \"\"\"get all the city\"\"\"\n",
    "        self.city_form = self.page.find(\"form\", {\"class\": \"standard_margin\"})\n",
    "        self.city = [values[\"value\"] for values in self.city_form(\"option\")]\n",
    "\n",
    "    def get_single_city(self, city):\n",
    "        \"\"\" get table with the city name for the country\"\"\"\n",
    "        country = self.country\n",
    "        city_page = self.base+\"/city_result.jsp?country=\"+country+\"&city=\"+city+\"&displayCurrency=USD\"\n",
    "        self.city_page = BeautifulSoup(self.get_page(city_page).text, \"html\")\n",
    "        table = ExtractTable(self.city_page)\n",
    "        return table.extract()\n",
    "\n",
    "    def get_all_city(self):\n",
    "        \"\"\" get the table of all the city and returns as a dict\"\"\"\n",
    "        country = self.country\n",
    "        self.result[country][\"child\"] = {}\n",
    "        for city in self.city:\n",
    "            print( \"crawling Country -> %s, city -> %s\"%(country, city))\n",
    "            self.result[country][\"child\"][city] = self.get_single_city(city)"
   ]
  },
  {
   "cell_type": "code",
   "execution_count": 22,
   "metadata": {},
   "outputs": [],
   "source": [
    "def write_json(FILE, OBJECT):\n",
    "    \"\"\" Function to store as a json file\"\"\"\n",
    "    with open(FILE, 'w') as w:\n",
    "        w.write(json.dumps(OBJECT))\n",
    "    print (\"The file has written ...\")"
   ]
  },
  {
   "cell_type": "code",
   "execution_count": 25,
   "metadata": {},
   "outputs": [],
   "source": [
    "COUNTRY = ['Cambodia', 'Paraguay', 'Kazakhstan', 'Portugal',\n",
    "           'Syria', 'Bahamas', 'Greece', 'Latvia', 'Mongolia',\n",
    "           'Iran', 'Morocco', 'Panama', 'Guatemala', 'Iraq',\n",
    "           'Chile', 'Nepal', 'Argentina', 'Seychelles', 'Tanzania',\n",
    "           'Ukraine', 'Belize', 'Ghana', 'Zambia', 'Bahrain', 'India',\n",
    "           'Canada', 'Maldives', 'Turkey', 'Belgium', 'Finland',\n",
    "           'Taiwan', 'North Macedonia', 'South Africa', 'Bermuda',\n",
    "           'Georgia', 'Jamaica', 'Peru', 'Germany', 'Yemen', 'Puerto Rico',\n",
    "           'Fiji', 'Hong Kong', 'United States', 'Somalia', 'Ivory Coast',\n",
    "           'Thailand', 'Libya', 'Costa Rica', 'Sweden', 'Vietnam', 'Poland',\n",
    "           'Jordan', 'Kuwait', 'Bulgaria', 'Nigeria', 'Tunisia', 'Croatia',\n",
    "           'Uruguay', 'Sri Lanka', 'United Kingdom', 'United Arab Emirates',\n",
    "           'Kenya', 'Switzerland', 'Palestine', 'Spain', 'Lebanon', 'Cuba',\n",
    "           'Venezuela', 'Azerbaijan', 'Czech Republic', 'Guernsey', 'Israel',\n",
    "           'Australia', 'Estonia', 'Myanmar', 'Cameroon', 'Cyprus', 'Malaysia',\n",
    "           'Iceland', 'Oman', 'Bosnia And Herzegovina', 'Armenia', 'South Korea',\n",
    "           'Austria', 'El Salvador', 'Luxembourg', 'Brazil', 'Algeria', 'Jersey',\n",
    "           'Slovenia', 'Ecuador', 'Kosovo (Disputed Territory)', 'Colombia', 'Hungary',\n",
    "           'Japan', 'Moldova', 'Belarus', 'Mauritius', 'Trinidad And Tobago', 'Albania',\n",
    "           'New Zealand', 'Senegal', 'Italy', 'Honduras', 'Ethiopia', 'Afghanistan',\n",
    "           'Singapore', 'Egypt', 'Bolivia', 'Malta', 'Russia', 'Saudi Arabia',\n",
    "           'Netherlands', 'Pakistan', 'Ireland', 'Qatar', 'China', 'Slovakia',\n",
    "           'France', 'Lithuania', 'Serbia', 'Romania', 'Philippines', 'Rwanda',\n",
    "           'Uzbekistan', 'Bangladesh', 'Barbados', 'Nicaragua', 'Norway', 'Botswana',\n",
    "           'Macao', 'Denmark', 'Dominican Republic', 'Zimbabwe', 'Mexico',\n",
    "           'Uganda', 'Suriname', 'Montenegro', 'Indonesia'\n",
    "           ]"
   ]
  },
  {
   "cell_type": "code",
   "execution_count": 26,
   "metadata": {},
   "outputs": [
    {
     "data": {
      "text/plain": [
       "139"
      ]
     },
     "execution_count": 26,
     "metadata": {},
     "output_type": "execute_result"
    }
   ],
   "source": [
    "len(COUNTRY)"
   ]
  },
  {
   "cell_type": "code",
   "execution_count": 18,
   "metadata": {},
   "outputs": [
    {
     "name": "stdout",
     "output_type": "stream",
     "text": [
      "crawling Country -> Western Sahara, city -> \n",
      "crawling Country -> Western Sahara, city -> El Aaiun\n",
      "The file has written ...\n"
     ]
    }
   ],
   "source": [
    "\n",
    "results = {}\n",
    "city = 1 \n",
    "for i in [\"Western Sahara\"]:\n",
    "    obj = API(URL, i, city)\n",
    "    results[i] = obj.get_result()\n",
    "write_json(\"results-Western-Sahara.json\",results)\n"
   ]
  },
  {
   "cell_type": "code",
   "execution_count": null,
   "metadata": {},
   "outputs": [],
   "source": []
  }
 ],
 "metadata": {
  "kernelspec": {
   "display_name": "amazon_reviews",
   "language": "python",
   "name": "python3"
  },
  "language_info": {
   "codemirror_mode": {
    "name": "ipython",
    "version": 3
   },
   "file_extension": ".py",
   "mimetype": "text/x-python",
   "name": "python",
   "nbconvert_exporter": "python",
   "pygments_lexer": "ipython3",
   "version": "3.11.9"
  }
 },
 "nbformat": 4,
 "nbformat_minor": 2
}
